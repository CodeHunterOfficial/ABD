{
  "nbformat": 4,
  "nbformat_minor": 0,
  "metadata": {
    "colab": {
      "provenance": [],
      "authorship_tag": "ABX9TyOGNSEbaEWFKxHp2XV//JR7",
      "include_colab_link": true
    },
    "kernelspec": {
      "name": "python3",
      "display_name": "Python 3"
    },
    "language_info": {
      "name": "python"
    }
  },
  "cells": [
    {
      "cell_type": "markdown",
      "metadata": {
        "id": "view-in-github",
        "colab_type": "text"
      },
      "source": [
        "<a href=\"https://colab.research.google.com/github/CodeHunterOfficial/ABD/blob/main/%D0%9D%D0%A1_%D0%BB%D0%BE%D0%B3_%D0%BE%D0%BF.ipynb\" target=\"_parent\"><img src=\"https://colab.research.google.com/assets/colab-badge.svg\" alt=\"Open In Colab\"/></a>"
      ]
    },
    {
      "cell_type": "markdown",
      "source": [
        "НС_лог_оп"
      ],
      "metadata": {
        "id": "w1uC_vC4eyao"
      }
    },
    {
      "cell_type": "markdown",
      "source": [
        "![image.png](data:image/png;base64,iVBORw0KGgoAAAANSUhEUgAAAqAAAACbCAIAAAAyfL7VAAAgAElEQVR4Ae2dXU7sSLLHayuzB55YwKyCK92ner7SrIAd8IpoNIgLYsTQdNN0V6NBSIiBg5CQRuo+b+edXVydq/yIjMi0XWlXOmyX+ZdaXXZmZHz8Mp3/clGnavHx8fHly5f/w6M1gS9fvnyoPTAXredhnaGcIyBdRwp9IAAC8yWwgMB3nVwpHr0LPdSo63TU2ss5AtJaRGgEARCYPQEIfOcpluIBge+Mb5ABco4g8IMgRxAQAIHJEYDAd54SKR4Q+M74Bhkg5wgCPwhyBAEBEJgcAS/wX/DoQqB3XQ8Ou2QB23UEgHQdHfSBAAh8AgJG4PEAARAAARAAARCYGQEI/MwmFOWAAAiAAAiAgCEAgcc6AAEQAAEQAIEZEoDAz3BSURIIgAAIgAAIQOCxBkAABEAABEBghgQg8DOcVJQEAiAAAiAAAhB4rAEQAAEQAAEQmCEBCPwMJxUlgQAIgAAIgAAEHmsABEAABEAABGZIAAI/w0lFSSAAAiAAAiBQKvB//PHHVkNE/uNOH/iDfwkBrJ8SeuVj7+7u/tjmx93dXTmEET1k13+pwP/nP/8Zsbzy0Mi/nGGJB/AvoVc+FvzLGZZ42Hb+v//++zbr+x+///57yfSNPja7fkoF/v39ffQiSxJA/iX0yseCfznDEg/gX0KvfOy281+tVlst8KvVqnwSR/SQXT+lAv/29jZieeWhkX85wxIP4F9Cr3ws+JczLPGw7fwh8CWzXz42u342Efg///wzZCZ/eDs0btEB8h93ssAf/EsIYP2U0Csf+9tvv231Hfxvv/1WDmFED9n131ng//zzz19//TWU9O9//zscaxyc7S0We2canp1PtfxN4vTY2X/RqkAtf5fwy/4OFaEzDTr5S/iLxWIb+Q9Ugg5/t3iiEpTmQDP/jwEK0Mn/bC9d89WWfnakX3/9VVPg//e//+t/jjQDSC3rh0jqRYu8i5NdP90E3qm7hPL4+JhW1OP5y/7Ozt7ejqLCq+Uv5lUc9sjGuVLL/+PD7m+8L7/s7yu80NLJPyZu92mlNaSTv4PP7HtfNsGhWv4DlaCWv1k0cgLO9lRWkE7+8fo3k11tCUug6AACn8OnRd7Fza6fDgIf1F0K/MPDQ67CzfuNvu+/uP9v7mXtSLX8xbxqFqCWv9qWEE+HTv4CvgtXaYiz2PxMJ3/FHTkpVS3/gUpQyl9tvST4P3Tyr6ZfbUkz2ez89vZW8wZb/Q7+9vZ2s8Jbj9Ii7xLIrp+2Ai/VXQr8v/71r9aldjUkYaTnruPb2Kvlz/Oqmf6HZv4qtyzJpOjkz/ApXLWFesqedfIfSB0/PvTWz0Al6PDXWi3VtTZU/loV/fLLL1st8L/88kt1Unpt0SLvksyun1YCn6i7FHjFf0fIwshHvaI3ztTyF3+/k+/09V2AVv7mj+9DCLxO/tWLqtrSz0zo5O/UMXz6YaH3ORS1/NMSlBaTSv7R4g8fQ1G5jFXyjz88QMtIJf+bm5utFvibm5t+NoJGL1o7jwuYXT95ga+quxR4edxY40YdUtXl8UbOGgep5S/m1Wi90v72oZm/Vs5yMnTyF/B9sLM9nSnQyX+g29+PD731M1AJOvyrq6W6ouQq3vxYLf9EzrXyh8Dn5l6LvIubXT8Zga9Vd+lU7RWQuAP2L0FV9EYz/3CNKc6xWv7RXUxuEW/er5N/ClyvGJ38B1LHj48PtfwHKkEnf7NewtVrF3e6ojZf8fFInfyr2VZb4jw2Pfv555+3+g7+559/3rT0luOqLxZbDmxlll0/6wS+Sd2lwF9fX7dKpKtRuiC1tmit/OVn1DTv4NXydx+iF7e9Op+i18k/Wj1m6STbddfV2Gyvk/9A6vjx8aGW/0AlaOVvF424pYhWVPNy6Nyjk38122pL51RrB/z0009bLfA//fRTbV19NVZfKvbl2fnJrp9GgV+j7lLg//nPf/absfNWXY9KCq+Uv5dH/95DfDPQKy+1/G2WdptTLUIn//jtH0X8Hzr5O3WkP57aZyE2fS4gtfwHEnjl/HkKlBaRTv7V7bPa0s8qgsA3caS9U+nC9WGz66de4NeruxT4f/zjH00VbkU78h93msAf/EsIYP2U0Csfe319rXkHr+47ewdcjkjVQ3b91wh8Vt2lwJ+fn6sWoO0c+WsTXu8f/Nfz0e4Ff23C6/1vO/8ff/xRXYQ1A/z444/rJ2jivdn1UyPwnUo6PT3tZD81Y+Q/7oyAP/iXEMD6KaFXPhYCX86wxEN2/ZcK/N///veS/EYfi/zHnQLwB/8SAlg/JfTKx15dXWneYKv7vrq6Kocwoofs+i8V+B9++GHE8spDI/9yhiUewL+EXvlY8C9nWOJh2/n/5W9/3fb/SqZv9LHZ9bN4f39/e3t7fX19fn5+enp6fHx8eHi4v7+/u7tbrVa3t7c3NzfX19dXV1eXl5cXFxfn5+enp6cnJyfHx8dHR0eHeIAACIAACHxKAtuu7n/521/nPW+ld/CHh4ff8QABEAABEAABEBiQgPtHnOsDQuDX80EvCIAACIAACEyOAAR+clOChEAABEAABECgnAAEvpwhPIAACIAACIDA5AhA4Cc3JUgIBEAABEAABMoJQODLGcIDCIAACIAACEyOAAR+clOChEAABEAABECgnAAEvpwhPIAACIAACIDA5AhA4Cc3JUgIBEAABEAABMoJQODLGcIDCIAACIAACEyOAAQ+NyXfDnYXy5Wx4qPcGJV+E94/XD4qUfp3ytj4qP8oW+Xx28Hu7sG3TVNeLRcFozeNinEgMAQB3iT4SMRdLRd2O+52EbQc1dJMpFN0OES4yQq8md30MdK2ZubBPUZKwL60WLiFXbSiRho8PsCRCm8IKzcns87lsqo7T5df2euDhqTQDALTILB2u6Brh55tyk4sxG2Pa+DriqzpuaFQ6qbnds6/f+eM/aVqU+krq4Zk2zW7hNbbjvJVtXUbHU/Y+oTn1rta+vcQ5lbY56ynsn3IdR2te7NxcCfreuThc0JE1Z+TAF0E0SVgBTZcKE5Y5ZVj7pBsdzSqCrDWLOvc6bsPL6zFoX//16htSNO+Jdwmq2qeHVq2VOBpDk36lRdutqblStrYJgPTTaFFb9oEbbpN9qM9Q+MkBDAn3om1Cv/zbmTEMChMRq2r0OsOaj3YVbkK72j4YKYGDuJTi2Lwao6avWlUr62kexV2aYckjGN6RI3RCUfZPfi24USIuFFpob0WTvJHlhBbcuT5ENVQ/qLJo5ctgWGcEnv0Rw25+V4zuHaGIz88tVFzci9BeRsbUS35b2gUidBshhF1pVEuUR81JsxFda7HR+BMa/OM1mqwjQKGqV8Xsd65QFhvYALRI0SXpsuVzTD0hTKjFJmJ2O+N3zCuykQ6CONlow3sFkyI6t37ZSTKMxb0CEFlo+3kcbJL2jdcucKcrE0THUtGlXYftKk9FEEa/O1gN/i1U0FZ87yEfovV9stRwSUfbOZchncIbGTZLC6/dlllOXDS64/cdGdsCn/RdqNfkzMV0pyZ9MS5hUicxIkhSkNWSz6SV5A1JysxVhz6q8wFMO0+VDTUpGTiURrJqbGlBAjuOlfWxgYgh3xij4I3bpfhTauJZ57Jg8nP5yCa7XhqL6sirrkuHT9vdQCjPOyJsxKHTRMRxTX2oWKekvps2Nj00wRFIf1syX6/lupdWnvZ5bLmlLzD8GSiUeR4XVsT7uZkw9hw0NgX5jyx4NPIghKJC7BhRJMZ7CzZTUglLLOoL0SRS9JYBOzGP4enI3bCHnhWY15sa5LhfEW7jGiOKQwbcx3RYuXo1gVNpzhJXJgeb2WNXCjRajOsi29sfHuVCTsQZtxo6TJHsqHnSnGUohvn8hXeHMZMksY+hLQnzg9vuSJ85FycJIeRvyrGqI7KifHld2IDcLFYLs0TlVGx79SQd25j+mDO2p7kB67Lw4zuyqHW3xYKvKjdlkTXYnLFUblxczKYxibNYdPi7claLINkGu+RZ9MvlxR5pjTEvl/jylg15dDomeOHoeHA5yfWnV0utr+fKmxhIYXGJENGSejQ7gARrqS5ZiLiuAm1kI+YHOEyHFI4F1wYNzXYOI3zy2HNeBOFH/4y9Y6TVZMau2EuTuw0jHcHSQHUGwpMuDBHPjK2VFFNLNEUew2l+cGUCltFOhGa7UFYe8I9JW+eyZk4MuMoz8gkeLYO2GFojyNKP2wsgzdFl1MYEkxc1AcNrZXE6ypKXJoxwYHsC432ICD1MRa7uzEwV2IY5E651rgj1Gea65LklJyjMMD7NU/sko+iZrawBlxCsE/ahfPKoUFjUjVDxIGctcqY1g1Z52RgPdoTp8zUvllWm3CorcldrbVdoXFif4M35OTkEYu6lZbKMC8sVx35omeqmXySve+PQ0SD3DyGzc8cyMuDl3etKxM3csf2NgXpiu0oS3pOnHC23qA2NLvzMaMaaquILexcNJbfFFrkLIuPshEQLIWauI3tNHPh2USRWdYj9QuA0fmGaKjPgz3EWcvSTA/byUq9Y2MsDfg8dkp5+OdqgraDm2UScsfljT3hEV1TfiUF4JSh8GoO7ZgQUyYcGom/7wzt4SAqTPgPBjZQyMQeuHSqHW5b8E7SiJl65WITLy9kUSbVkGHS0RBUWmUrCgbMhGsUW15DLDfKREzn0vTITKJCQkV2fMiBIwf2jF0kw37jEdFcuNREJH/oB4eghLfS7hzU/t/YLuyrGl+4y4OWbO2Y1o0553EscZYbmMmgiU9mWLXbTV61XbZMTOB97SFDWh1+UYR2fxA3J4NpbNLMu6DtCC8wydy5jjynHtI0/NbQ4MpYpx5CsCiONaPF64ZEA80JP7yhtWgIHXmPXFVLqGQZBjcObAqdDKBik+ZkIuy/VjRphbgJNW4nnpHDcELhfInJqfRPEMJQapDPMiwFbuna+KXpNEPEeexVxhMCFDWLOqJ85Ymw4QB8FPzJpnAsHVGm7NC08GP92gsuQ8BkcQW3MqY0bpx6O6ButXNMPhIeZaDG6KEjcdEU1LTzwzGRgUR8sapDazA1B7RObGNdgX5dHCS3QNZb8OR9h0LijobmkFCyvHklSh7sko/i6bXtNSU0tYv4yaEZ4R/+ZYfJJLBKrDue5pzbUPxyiiPnBuby6M6hwaND09Dpmycm8PbCDlANCb/wDV66BvgPQqaVX3A68N5KjLXtZJa2C6/hMFIZA0oMqsdpQ4Tx4UJi46Yc7IXPhVXLkS3sjsXREWsIXeVDoYQrPjRJEicphE3lN1UdtYvBtp0CJO3UnMata/czYtY3dxt/9iyKItcNFSrb3FoSuZBReK4ypJhxjxmQ+ElOo26bJc8GfQQo3ipDEnYoxY1OoiR44fFRnbTIQeHYZORDhMSFG86FG20RNWvP+KTaaj7lkKxesuQIqdKEHG3p0jeF4Zzq6o3b2NbmT1hD0XIJ2pyayhQJxz7rKqoyMW598HyBoYQoZ8ogajQnPgMRwm1qor0uSetHDnZGnJ5Nw2cdORcnkRMzQAStmzsqovps4ppHSNW5phmrDvAtIt9GG1dJvXOKS9MTNhwbmXq7ZkWpNPGh/tbPDs5686kJvNdWlzpPbCAcTXdY9K5Gt8YIv5gcd8VWfBr7MEliIRpvlSXiZsX7EMM4dJMrmoCQmFiwpk94ZhfcUb+a48uGx3G78bBBFRwuGiyS5GuiCaBpX65CvexyzUSwEcd1fiQ/tnIJ8XlF9SrTTX4i5IGc81czv5wOz0mj76pxCODDivMoJLfHU1gJSikuFrvL5W68lmio8RwcxjlZClFkulCiRg+WHAp2dg698yhOdAWxM/oDasgnUppoMkxpwjNPLpdQHzFqZWOXtU2lMbqx9g+2SVxE7qMyA5cIlI1IXqkieaG7SMaMagwhwoF1HdzKjGITSqG2EBlCTtx67MEVZSeu292DA/qHvcZ5+jCVxfmFEhrbqYLKswvA0+LTkA2VMbZB0qq3oNmQvmzZVEB080CqZK03zooyaeJD/a2fHfz15qMI/PqUNu414HhJbuxmOgPbrNPpZMuZDDIR04TD2xnj6HZUU5e4vQ++6tpCJw5AYCMCZVdu+eLfKOl0UFkRqbcJn0PgJzw5LVKr2epbjJqAyRBX2FThlG5ydXXViXld2wSmHilsNYGyK7d07feD7vNcGRD4flbMSF7qtvqRUukYtmybaBVsunDK9pdp7JGtpgBG8yMwwJU7P2ijVfTZBH400AgMAiAAAiAAAkMSgMAPSRuxQAAEQAAEQGAgAhD4gUAjDAiAAAiAAAgMSQACPyRtxAIBEAABEACBgQhA4AcCjTAgAAIgAAIgMCQBCPyQtBELBEAABEAABAYiAIEfCDTCgAAIgAAIgMCQBCDwQ9JGrM9DgP4VPv7V+vhzjrkYfw6QwSgEIPCjYEfQ2RMgYadnLtjIDT/kN12zDY46EDBfvSJ/U8j/dAOTpTmg5w6+YQoC20wAAr/Ns4fcp0uAvq0uFhUn7kF6ktPpVjPpzCzFwNTJffhJGpN5/VxMuiYkBwJ9EIDA90ERPkAgJUCi8u1gl37dyEsPnZoRQuFt7+7Bin5/yyiW6+bb0zob48Z59o690bfa9vBTS8G1/e0vfwNc5z8Yct4unN07gq5yNf7dCWseJUaI4kbrn9wIzzX35NWIISo5CNmGQoXAi7mgXPAMAnMmAIGf8+yitikRcOJFSuQyE21emmw/yZQRSWFCgm9tXLtTXSmSrdudBDpz/4OlrXMQGfiCOM2mBMJcyGzlaxMX3VXE7uQPgMpWcifCeQdL8zcQnxZZ4RkEPiMBCPxnnHXUPAKBOnHyip3quGgmgbeyF7kQJ0LjpBxK8ZTtkbk0Ei7pzQUptyFNL55SkIVoi0Pn0N/S0y15FJ5PouAivG2viUhTSOHCeHZJJngGgU9KoETgz/YWi539l4/c4/Dw8JPSRdkgEAg4OYxvLF2bFVHSKWMfSZToEIfSKEhbMjZywyeRuY/l0pL+2Z7+kmBsXGtQ7PA+uG13TsRAd5j6tlHYhb/blramDsrFtbO5e8URqPrXQru75nN2Np3UEZviCAQ+GwF34ayvelFV8Jf9ncVib39/BwK/nh16QcATcLrm1M41ee2ykuWOvXqRuBkz0SEOo/aqeaqpdENs22vcOPuoo+rUJCdbxcyKke5QJOBfBNiR5jgcxNUJF6YjBAoHIpw4dMPsNlYDTxjiEAQ+IYENBd5J/gsE/hMuGZS8IQGnbE76SMLoT8WRvEUnLHCkZVbIuJnEO+hv+EyeCyjbhcCLQ/kJO7onX5uDl9LAQRpz0OqLEONc2godjw7li4DYPoSkAxdO/Mk9Y0/j8AwCn4EABP4zzDJqnAgBkiN32QWtj9UtkihxYgfvLpf2zeig4qay4NZ/CJ8EOLSHG2en5aHd27tEnP8D8+n7WIZFDtTjCjDeXKd/jUDdlABnFvKVUeIwkbFgQxFczODaTqnrE8bOiWyYyNQjDRAYgQAEfgToCAkC3QlEMtt9uNfeWB83cYMxIAAC20IAAr8tM4U8PzkBe+tbos/GAW5tP/kqQvmfiwAE/nPNN6rdVgLRW9vbWgTyBgEQGJIABH5I2ogFAiAAAiAAAgMRgMAPBBphQAAEQAAEQGBIAkUCX/338bUt+KKbIWcUsUAABEAABEDg+/fvEHgsAxAAARAAARCYIQEI/AwnFSWBAAiAAAiAAAQeawAEQAAEQAAEZkhgIIF3YfB/EAABEAABEACBIQmsf+WyeH9/f3t7e319fX5+fnp6enx8fHh4uL+/v7u7W61Wt7e3Nzc319fXV1dXl5eXFxcX5+fnp6enJycnx8fHR0dHh4eHQxaDWCAAAiAAAiAAAo7A17WPml+Tq/20fFMjPkW//gUUekFgygS+fv065fSyuSH/LCJVA/BXxZt1nuUPgc8yhAEIzJZAdoOYeOXIf9wJAv+J84fAjztBiA4CYxLABj0m/e/fwR/8Swhk1w8EvgQvxoLAdhPIbhATLw/5jztB4D9x/hD4cScI0UFgTALYoMekjzv4cel/Av4Q+LGXGOJvPwHxY632l92354dbIfDjrj7wB/8SAtn1UyPwL/s79C8Q9s6aPj1P7fGn6O3uRoPxA9UlM4ex20QgWvglv+s+dNHZDWLohDrGQ/4dgfVsDv49A+3oLsu/KvBneyTrRunpmAQ9fY4FXvyutT1cbM+tTEewMAeBORDIbhATLxL5jztB4D9x/lWBFxL+sr+zs/8iGqqHkcDLtyfdPU0s8K7N3eDIY/diYGFu+Q+Wi8XCWIjXCt+lrT+xbxOwd2dhGq13e7p7sDrYdW8nGMMQhG+weJR4JVLbGGZR9PpYpiv4Du9eUGq19rYxSc+4ccaUnyQgqxZxRWAa1WQZKhAGzMph8xlQ7lyVc74mvWAqZtBHDF1hdiSwqn3KwcP65ty5HNhV5N3Sp+zZklZFQBANqkIgO2lmrBrqj5rtiUvBH26wCF1gB52SUXrGBq0EtqVb8G8JSsls9vzXCvzZXqc7eLnT1e5RttHufs7UHgpL12rF1u+OblvncXxU7+H7ammcOp9Otf2xlTAxyNvYXdSa8FGaYVhbzpXbeCuu7KigXezNa2fF3v8Fw7U7n9Y/+REdDXG/Heym4xosQwWyasnKBxUxm5yvT885CC+X3KkZIjzLHBJ7n6fk0DCwJnnpt5nDmpSoNJfFt4Nd18AZyLz4mI/i1wAuhxaL0IbhvDyrOBuewX6PZr/B9Yurd2/g3zvSTg5nz79Z4Nu8Qf/xIe/g/Y4W7mKd+jDvup2S24wdn8ld0/ldrly33/jixiApNprYLOnu2uXC/vlI3LbaxtR/yD/yKv1KX6KEjL2PI6y6+vGZuWHmdYTwZfoCoqYSTHsUVFJ3g9h5bMnD+GidO/a8xt7nGVmkAyPdiyz5xB0FS8mB3Tk8zsgNaFi4PIQjiMGi0SOXPn0SMgUeYI9qLDyHIZ5mv8ENAbEgBvgXwOth6Oz51wu8Effcm/Pu7Xoh8LxxBXHxm5efCLfL1byPSmbOgzlLj+ztrmsM27C7NWZLnm7ekpsELHHlEkga/a03uU0DcRA+osLjEpwHtuKjWGBtO5dn/2QhUdT6cfb29Utzhr6G1CCE9xPg+sW7AsI5vV6Q+VXLjCLYE4nWeI4skjOXZmThTqoDUxbtyLt4aUpRFmJywnx4PKzfnFU01p8IgH6ksGcn3pqBunF+rgZ6mv0GNxDHTcOA/6bk+hk3e/41At/iL+/8t3gW+Ghfjvc9Nxe8y/Emym2p2ITddbk0f5Y3OyUPE5MbeUgDyW0/BDD7aOTKnixXcaMIUeNVeogycGmzIIVNmyNG9uKEh0apCguTCPlxzUF6TFeDJVeSGEh3PN64rHHuAtOLHvbERyGDqqoJf832lCdVGKeUVse9HjHji0IwsZCfHSBSikpjNz4f2eAH7ZqPdvgqG7KN060amRxkKxU/9PPsN7ihgXaMB/4dgfVsPnv+FYF/2d/JfXKe5V2+RR9tV/aE9kA3J3LbDbZim3WH8hNk6TjpIcyz8GA21fBGtd/2ozEhbLT9WhOWNT8wBAgHPNrvzfIthJpwa+19ncImylRu/sJGSJFtJb1dLW38estQgK/aKZP/Gzu7cUcuL261LymM86b0XLv16Q5pBuUA4a/RPqTJxjKlmuRlhCg/O04KsOckB3CUqDZqdp/lCK8JvDPP39x00zKhAbQmfI8MFeUmZjayCeXXt4bung9mv8H1zKtvd+DfN9Fu/mbPvyLwZ3v8nqE5yrxTH+7g3b4kxtIOSMDlruuM7a7pNkh7R2Q/b0xbKQ0TGyLtxBTERxCRbUs1UGQYnXhXvs3vxIn/kInY3sMNXHIfJmPzlm8chrqcyXLpP+AfKwVZxbt8YCT9yGxomGzjiFyALNDXHHz7T/WnzZR5VFmUXuph9+AbTUnEmiDX2IsM6U0Kx8wuCRpIXkleo5SikxoONLg2pcjeWpC5XQuUAC9AbuGhEUCZjvNVFziK4laCawoTGpPp/2z2G1z/yHr1CP694uzsbPb8KwIvb89bHAeB74z2kw6IdvtPymBry/aCLOR9a0vxic9+g5v4BIH/uBM0e/4Q+IEXmL21m5FCDIxvzHDzk/dP8F3cYy6YFrFnLzAtGIxpMnv+EPhhl5d863bYyIhWRmCO8g6BL1sT5aNnLzDliFQ9zJ4/BF51/cA5CEyawOw3uEnTxwussadn9ut/8f7+/vb29vr6+vz8/PT09Pj4+PDwcH9/f3d3t1qtbm9vb25urq+vr66uLi8vLy4uzs/PT09PT05Ojo+Pj46ODg8P6TNpeB6HwFc8QAAEQAAEQKBC4LPfwS8Wi7FfRBbF3/b8Z/8Kumh29QeDvz7jdRHAfx0d/b7Z84fAQ+D1L6PmCLO/wJpLn0QP+I87DeAP/iUEsusHAg+BL1lgpWOzC7Q0gPJ45K8MOOMe/DOAlLvBXxlwxn2WPwQeAp9ZQ6rd2QWqGr3cOfIvZ1jiAfxL6JWPBf9yhiUesvwh8BD4kgVWOja7QEsDKI9H/sqAM+7BPwNIuRv8lQFn3Gf5Q+Ah8Jk1pNqdXaCq0cudI/9yhiUewL+EXvlY8C9nWOIhy79G4Pnb6DPfQ2++ybb4q2rN94fIb95Oz0uqbzFW+VPo/ttR6AvdWyTU0UQ5/47ZdDfPLtDuLgcdgfwHxV0JBv4VJIM2gP+guCvBsvyrAv+yv3/mvoTeKH3ul+Ug8BXmosF8b92u/HFR0dfPIQS+H46besleYJs6Hmgc8h8IdEMY8G8AM1Dz7PlXBV78wszZ3tgCH+6A6RfE5O+hue+Vkbf/3VeFpkBaeT+wP4gWvUnRPcvmEZr5N0ftr2f2F1h/qFQ8gb8K1tZOwb81KhXD2fNfJ/At9F33LXqjkPS7LMlb97KrZOb1BNK+Ngk/T1/2MqS5Qr38m2P22TP7C6xPWAq+wF8BageX4OUkRtEAAAdESURBVN8BloLp7PnXCTz9ET739nxvf4NPv+LVqWEi6eaHt1kmJy/w7vb9G/2EOGfe7yqFwPfLs6u32W8QXYEMbA/+AwNPwoF/AmTg0yz/OoGnN+mN0Oc+Z6f4N3j59rx/CcAyOXGBN+n5Nx9cGZx5vysAAt8vz67eshdYV4cD2yP/gYEn4cA/ATLw6ez5rxP4j4/8m/TKAk9v0FemfdoCX/PaROmD9BD4ytIYtGH2G8SgNLsHA//uzPocAf590uzuK8u/IvD8IfqPl/2dMe/g7efpmu58py3wcqJwBy9ppMfZBZoOmNg58h93QsAf/EsIzH79VATe3LXTI/f+vP6/g49vhYXaQ+DdssYdfMnlXT529htEOSJVD+CvijfrHPyziFQNsvyrAk9/gW/3XPwWvWr5eefbLpDbnn92geancFQL5D8q/u/gD/4lBGa/fiDw+KrakgukdOzsL7BSQMrjwV8ZcMY9+GcAKXfPnj8EHgKvfA2tdT/7C2xt9eN3gv+4cwD+4F9CILt+IPAQ+JIFVjo2u0BLAyiPR/7KgDPuwT8DSLkb/JUBZ9xn+S/e39/f3t5eX1+fn5+fnp4eHx8fHh7u7+/v7u5Wq9Xt7e3Nzc319fXV1dXl5eXFxcX5+fnp6enJycnx8fHR0dHh4SF9JA/P4xD4igcIgAAIgAAIVAjgDh538JkXiard2VegqtHLnSP/coYlHsC/hF75WPAvZ1jiIcsfAg+BL1lgpWOzC7Q0gPJ45K8MOOMe/DOAlLvBXxlwxn2WPwQeAp9ZQ6rd2QWqGr3cOfIvZ1jiAfxL6JWPBf9yhiUesvwh8BD4kgVWOja7QEsDKI9H/sqAM+7BPwNIuRv8lQFn3Gf5Q+Ah8Jk1pNqdXaCq0cudI/9yhiUewL+EXvlY8C9nWOIhyx8CD4EvWWClY7MLtDSA8njkrww44x78M4CUu8FfGXDGfZb/GoE3X0qf/Un4vr+q1v7OqvjnZo0/J5cpvG231le9pnWIn7Jvm1orO638WwXvwSi7QHuIoekC+WvSzfsG/zwjTQvw16Sb953l3yjw5qfkhhd48+My4SdlzMm2CryYGqf1SoVA4AXpEQ6zF9gIOXUJify70OrfFvz7Z9rF4+z5Nwj8y/7Ozv7+3uB38NGPxMUCL35YrkexVBdIl3Z40dJl8bWxVc+/TRIFNrO/wArYDDEU/Ieg3BwD/JvZDNEze/61Am/l/cX8cOzAb9EbNWQtlAK/WlJ7bFO6CLQFUlnfv2vnX8o3N372F1gOwMj94D/uBIA/+JcQyK6fGoE/21u4H4IfXuCjG/jvUuAFhIZmYdHhUFkg3dvz9NqkQ15tTZXzb5vGxnbZBbqx52EGIv9hODdFAf8mMsO0g/8wnJuiZPlXBF6oujhs/HH4Xj9kl0h3dGpO+NHbm/S6Aqn653c757r5Ny2r/tqzC7S/UCqekL8K1tZOwb81KhVD8FfB2tppln8i8O6jdSyki4W/m29S+D4F3mi4vNkVAi9v7UVzaw6NhpoC6V+T9PZipK4Izfzr4vXdll2gfQfs2R/y7xloR3fg3xFYz+bg3zPQju6y/BOBj3R84Dt4KeK2TKHkos/eFfcmmooCOYS+42/wHS+Ivs2zF1jfAXv2h/x7BtrRHfh3BNaz+ez5T0TgrWpHbxyIE6vmwWL34GDZ37+e0xN4p+/yHYme16Z1p5e/RrZVn7O/wKolT6oF/MedDvAH/xIC2fWzTuCj2/mGk57eol8tozfnRcmrHtVcuKXDbRfIbc8/u0Bpoib6jPzHnRjwB/8SArNfPxB4fFVtyQVSOnb2F1gpIOXx4K8MOOMe/DOAlLtnzx8CD4FXvobWup/9Bba2+vE7wX/cOQB/8C8hkF0/ExH4khqLxm77W9zbnn92gRbNrv5g5K/PeF0E8F9HR78P/PUZr4uQ5b94f39/e3t7fX19fn5+enp6fHx8eHi4v7+/u7tbrVa3t7c3NzfX19dXV1eXl5cXFxfn5+enp6cnJyfHx8dHR0eHh4fi43A4HIHAVzxAAARAAARAoELgs9/BZ18BrXv5NIE+5D/uJIA/+JcQwPopoVc+dvb8IfBfy1fJiB5mv0BHZNsmNPi3oaRnA/56bNt4Bv82lPRssvwh8BB4veWX95xdoHkXo1og/1Hxfwd/8C8hMPv1A4GHwJdcIKVjZ3+BlQJSHg/+yoAz7sE/A0i5e/b8IfAQeOVraK372V9ga6sfvxP8x50D8Af/EgLZ9QOBh8CXLLDSsdkFWhpAeTzyVwaccQ/+GUDK3eCvDDjjPsu/RuCjX5TbO2v4jlrf3NNX1WbK0OvOAtIL3Ytn5N8Lxo2dgP/G6HoZCP69YNzYCfhvjK6XgVn+9QKfk3UWfQh8L/O0sZPsBG/seZiByH8Yzk1RwL+JzDDt4D8M56Yos+dfI/BtfiU2KDwEvmnpDNM++wU6DMaNo4D/xuh6GQj+vWDc2An4b4yul4FZ/v8P0gl9LuSpn9gAAAAASUVORK5CYII=)"
      ],
      "metadata": {
        "id": "ewdP5L_ZeqV_"
      }
    },
    {
      "cell_type": "code",
      "execution_count": 7,
      "metadata": {
        "colab": {
          "base_uri": "https://localhost:8080/"
        },
        "id": "Sdi5whwUeXme",
        "outputId": "220301f9-48c8-435f-a348-0907c4bc0648"
      },
      "outputs": [
        {
          "output_type": "stream",
          "name": "stdout",
          "text": [
            "Обучение модели для логической операции И:\n",
            "Эпоха [100/1000], Потери: 0.1796\n",
            "Эпоха [200/1000], Потери: 0.1467\n",
            "Эпоха [300/1000], Потери: 0.1235\n",
            "Эпоха [400/1000], Потери: 0.1069\n",
            "Эпоха [500/1000], Потери: 0.0943\n",
            "Эпоха [600/1000], Потери: 0.0844\n",
            "Эпоха [700/1000], Потери: 0.0764\n",
            "Эпоха [800/1000], Потери: 0.0697\n",
            "Эпоха [900/1000], Потери: 0.0641\n",
            "Эпоха [1000/1000], Потери: 0.0592\n",
            "\n",
            "Обучение модели для логической операции ИЛИ:\n",
            "Эпоха [100/1000], Потери: 0.1173\n",
            "Эпоха [200/1000], Потери: 0.0973\n",
            "Эпоха [300/1000], Потери: 0.0829\n",
            "Эпоха [400/1000], Потери: 0.0715\n",
            "Эпоха [500/1000], Потери: 0.0623\n",
            "Эпоха [600/1000], Потери: 0.0549\n",
            "Эпоха [700/1000], Потери: 0.0488\n",
            "Эпоха [800/1000], Потери: 0.0438\n",
            "Эпоха [900/1000], Потери: 0.0395\n",
            "Эпоха [1000/1000], Потери: 0.0359\n",
            "\n",
            "Обучение модели для логической операции Отрицательное И:\n",
            "Эпоха [100/1000], Потери: 0.1650\n",
            "Эпоха [200/1000], Потери: 0.1366\n",
            "Эпоха [300/1000], Потери: 0.1165\n",
            "Эпоха [400/1000], Потери: 0.1017\n",
            "Эпоха [500/1000], Потери: 0.0903\n",
            "Эпоха [600/1000], Потери: 0.0812\n",
            "Эпоха [700/1000], Потери: 0.0738\n",
            "Эпоха [800/1000], Потери: 0.0675\n",
            "Эпоха [900/1000], Потери: 0.0622\n",
            "Эпоха [1000/1000], Потери: 0.0576\n",
            "\n",
            "Тестирование моделей:\n",
            "0 и 0 = 0\n",
            "0 или 0 = 0\n",
            "0 и не 0 = 1\n",
            "0 и 1 = 0\n",
            "0 или 1 = 1\n",
            "0 и не 1 = 1\n",
            "1 и 0 = 0\n",
            "1 или 0 = 1\n",
            "1 и не 0 = 1\n",
            "1 и 1 = 1\n",
            "1 или 1 = 1\n",
            "1 и не 1 = 0\n"
          ]
        }
      ],
      "source": [
        "import torch\n",
        "import torch.nn as nn\n",
        "import torch.optim as optim\n",
        "\n",
        "# Опорные сигналы для обучения\n",
        "inputs = torch.tensor([[0, 0], [0, 1], [1, 0], [1, 1]], dtype=torch.float32)\n",
        "target_and = torch.tensor([[0], [0], [0], [1]], dtype=torch.float32)  # Логическое \"И\"\n",
        "target_or = torch.tensor([[0], [1], [1], [1]], dtype=torch.float32)   # Логическое \"ИЛИ\"\n",
        "target_nand = torch.tensor([[1], [1], [1], [0]], dtype=torch.float32)  # Логическое \"Отрицательное И\"\n",
        "\n",
        "# Определение класса нейронной сети\n",
        "class LogicGateNN(nn.Module):\n",
        "    def __init__(self):\n",
        "        super(LogicGateNN, self).__init__()\n",
        "        self.fc = nn.Linear(2, 1)\n",
        "\n",
        "    def forward(self, x):\n",
        "        x = torch.sigmoid(self.fc(x))\n",
        "        return x\n",
        "\n",
        "# Обучение модели\n",
        "def train_model(model, criterion, optimizer, inputs, targets, epochs=1000):\n",
        "    for epoch in range(epochs):\n",
        "        optimizer.zero_grad()\n",
        "        outputs = model(inputs)\n",
        "        loss = criterion(outputs, targets)\n",
        "        loss.backward()\n",
        "        optimizer.step()\n",
        "        if (epoch + 1) % 100 == 0:\n",
        "            print(f'Эпоха [{epoch + 1}/{epochs}], Потери: {loss.item():.4f}')\n",
        "\n",
        "# Создание экземпляра модели\n",
        "model_and = LogicGateNN()\n",
        "model_or = LogicGateNN()\n",
        "model_nand = LogicGateNN()\n",
        "\n",
        "# Определение функции потерь и оптимизатора\n",
        "criterion = nn.MSELoss()\n",
        "optimizer_and = optim.SGD(model_and.parameters(), lr=0.1)\n",
        "optimizer_or = optim.SGD(model_or.parameters(), lr=0.1)\n",
        "optimizer_nand = optim.SGD(model_nand.parameters(), lr=0.1)\n",
        "\n",
        "# Обучение моделей для каждой логической операции\n",
        "print(\"Обучение модели для логической операции И:\")\n",
        "train_model(model_and, criterion, optimizer_and, inputs, target_and)\n",
        "print(\"\\nОбучение модели для логической операции ИЛИ:\")\n",
        "train_model(model_or, criterion, optimizer_or, inputs, target_or)\n",
        "print(\"\\nОбучение модели для логической операции Отрицательное И:\")\n",
        "train_model(model_nand, criterion, optimizer_nand, inputs, target_nand)\n",
        "\n",
        "# Тестирование моделей\n",
        "test_inputs = torch.tensor([[0, 0], [0, 1], [1, 0], [1, 1]], dtype=torch.float32)\n",
        "\n",
        "print(\"\\nТестирование моделей:\")\n",
        "for a, b in test_inputs:\n",
        "    print(f\"{int(a)} и {int(b)} = {model_and(torch.tensor([[a, b]])).item():.0f}\")\n",
        "    print(f\"{int(a)} или {int(b)} = {model_or(torch.tensor([[a, b]])).item():.0f}\")\n",
        "    print(f\"{int(a)} и не {int(b)} = {model_nand(torch.tensor([[a, b]])).item():.0f}\")"
      ]
    }
  ]
}