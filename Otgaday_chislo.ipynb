{
  "nbformat": 4,
  "nbformat_minor": 0,
  "metadata": {
    "colab": {
      "provenance": [],
      "authorship_tag": "ABX9TyM6Wqfqq9rVUR6SQDvnEKvB",
      "include_colab_link": true
    },
    "kernelspec": {
      "name": "python3",
      "display_name": "Python 3"
    },
    "language_info": {
      "name": "python"
    }
  },
  "cells": [
    {
      "cell_type": "markdown",
      "metadata": {
        "id": "view-in-github",
        "colab_type": "text"
      },
      "source": [
        "<a href=\"https://colab.research.google.com/github/CodeHunterOfficial/ABD/blob/main/Otgaday_chislo.ipynb\" target=\"_parent\"><img src=\"https://colab.research.google.com/assets/colab-badge.svg\" alt=\"Open In Colab\"/></a>"
      ]
    },
    {
      "cell_type": "markdown",
      "source": [
        "![image.png](data:image/png;base64,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)"
      ],
      "metadata": {
        "id": "bjztL0O_vlxk"
      }
    },
    {
      "cell_type": "code",
      "execution_count": 3,
      "metadata": {
        "colab": {
          "base_uri": "https://localhost:8080/"
        },
        "id": "wHa1lB_AuzBp",
        "outputId": "66d00197-d906-4f48-a87f-4b097c3cd6da"
      },
      "outputs": [
        {
          "output_type": "stream",
          "name": "stdout",
          "text": [
            "Угадайте число от 93 до 196: 95\n",
            "Загаданное число больше.\n",
            "Угадайте число от 93 до 196: 180\n",
            "Загаданное число меньше.\n",
            "Угадайте число от 93 до 196: 150\n",
            "Загаданное число больше.\n",
            "Угадайте число от 93 до 196: 166\n",
            "Загаданное число больше.\n",
            "Угадайте число от 93 до 196: 177\n",
            "Загаданное число меньше.\n",
            "Угадайте число от 93 до 196: 170\n",
            "Загаданное число больше.\n",
            "Угадайте число от 93 до 196: 173\n",
            "Загаданное число больше.\n",
            "Угадайте число от 93 до 196: 175\n",
            "Загаданное число меньше.\n",
            "Угадайте число от 93 до 196: 174\n",
            "Поздравляю, вы угадали число!\n"
          ]
        }
      ],
      "source": [
        "import random\n",
        "\n",
        "def guess_the_number():\n",
        "    \"\"\"\n",
        "    Игра \"Отгадай число\".\n",
        "    \"\"\"\n",
        "    min_val = 93\n",
        "    max_val = 196\n",
        "    secret_number = random.randint(min_val, max_val)\n",
        "\n",
        "    while True:\n",
        "        try:\n",
        "            user_guess = int(input(f\"Угадайте число от {min_val} до {max_val}: \"))\n",
        "            if user_guess == secret_number:\n",
        "                print(\"Поздравляю, вы угадали число!\")\n",
        "                return\n",
        "            elif user_guess < secret_number:\n",
        "                print(\"Загаданное число больше.\")\n",
        "            else:\n",
        "                print(\"Загаданное число меньше.\")\n",
        "        except ValueError:\n",
        "            print(\"Ошибка: введите целое число.\")\n",
        "\n",
        "# Запуск игры\n",
        "guess_the_number()"
      ]
    }
  ]
}