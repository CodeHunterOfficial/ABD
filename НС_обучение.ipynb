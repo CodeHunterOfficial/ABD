{
  "nbformat": 4,
  "nbformat_minor": 0,
  "metadata": {
    "colab": {
      "provenance": [],
      "authorship_tag": "ABX9TyPFrygPEgC7jfWBRSjJ6cg2",
      "include_colab_link": true
    },
    "kernelspec": {
      "name": "python3",
      "display_name": "Python 3"
    },
    "language_info": {
      "name": "python"
    }
  },
  "cells": [
    {
      "cell_type": "markdown",
      "metadata": {
        "id": "view-in-github",
        "colab_type": "text"
      },
      "source": [
        "<a href=\"https://colab.research.google.com/github/CodeHunterOfficial/ABD/blob/main/%D0%9D%D0%A1_%D0%BE%D0%B1%D1%83%D1%87%D0%B5%D0%BD%D0%B8%D0%B5.ipynb\" target=\"_parent\"><img src=\"https://colab.research.google.com/assets/colab-badge.svg\" alt=\"Open In Colab\"/></a>"
      ]
    },
    {
      "cell_type": "markdown",
      "source": [
        "![image.png](data:image/png;base64,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)"
      ],
      "metadata": {
        "id": "roZxoPmulj_r"
      }
    },
    {
      "cell_type": "markdown",
      "source": [
        "**Вариант 1**"
      ],
      "metadata": {
        "id": "oF0GweqRlfPa"
      }
    },
    {
      "cell_type": "code",
      "execution_count": 2,
      "metadata": {
        "colab": {
          "base_uri": "https://localhost:8080/"
        },
        "id": "eaPP_062kDxS",
        "outputId": "2e3f90a2-a80c-4a51-d724-67be213c9c9f"
      },
      "outputs": [
        {
          "output_type": "stream",
          "name": "stdout",
          "text": [
            "Training model:\n",
            "Epoch [100/1000], Loss: 0.0001\n",
            "Epoch [200/1000], Loss: 0.0000\n",
            "Epoch [300/1000], Loss: 0.0000\n",
            "Epoch [400/1000], Loss: 0.0000\n",
            "Epoch [500/1000], Loss: 0.0000\n",
            "Epoch [600/1000], Loss: 0.0000\n",
            "Epoch [700/1000], Loss: 0.0000\n",
            "Epoch [800/1000], Loss: 0.0000\n",
            "Epoch [900/1000], Loss: 0.0000\n",
            "Epoch [1000/1000], Loss: 0.0000\n",
            "\n",
            "Прогнозируемый выход для [1, 0, 0]: 0.5011\n"
          ]
        }
      ],
      "source": [
        "import torch\n",
        "import torch.nn as nn\n",
        "import torch.optim as optim\n",
        "\n",
        "# Заданные параметры\n",
        "N = 3  # Число возможных событий\n",
        "K = 1  # Число положительных событий\n",
        "\n",
        "# Генерация обучающих данных\n",
        "inputs = torch.tensor([[1, 0, 0], [0, 1, 0], [0, 0, 1]], dtype=torch.float32)\n",
        "target = torch.tensor([[0.5] * inputs.shape[0]], dtype=torch.float32).T  # Среднее значение N/2\n",
        "\n",
        "# Определение класса нейронной сети\n",
        "class CustomNN(nn.Module):\n",
        "    def __init__(self, input_size, hidden_size):\n",
        "        super(CustomNN, self).__init__()\n",
        "        self.fc1 = nn.Linear(input_size, hidden_size)\n",
        "        self.fc2 = nn.Linear(hidden_size, 1)\n",
        "\n",
        "    def forward(self, x):\n",
        "        x = torch.relu(self.fc1(x))\n",
        "        x = torch.sigmoid(self.fc2(x))\n",
        "        return x\n",
        "\n",
        "# Создание экземпляра модели\n",
        "input_size = N\n",
        "hidden_size = 10  # Размер скрытого слоя (можно экспериментировать с этим параметром)\n",
        "model = CustomNN(input_size, hidden_size)\n",
        "\n",
        "# Определение функции потерь и оптимизатора\n",
        "criterion = nn.MSELoss()\n",
        "optimizer = optim.SGD(model.parameters(), lr=0.1)\n",
        "\n",
        "# Обучение модели\n",
        "def train_model(model, criterion, optimizer, inputs, target, epochs=1000):\n",
        "    for epoch in range(epochs):\n",
        "        optimizer.zero_grad()\n",
        "        outputs = model(inputs)\n",
        "        loss = criterion(outputs, target)\n",
        "        loss.backward()\n",
        "        optimizer.step()\n",
        "        if (epoch + 1) % 100 == 0:\n",
        "            print(f'Epoch [{epoch + 1}/{epochs}], Loss: {loss.item():.4f}')\n",
        "\n",
        "# Обучение модели\n",
        "print(\"Training model:\")\n",
        "train_model(model, criterion, optimizer, inputs, target)\n",
        "\n",
        "# Тестирование модели\n",
        "test_input = torch.tensor([[1, 0, 0]], dtype=torch.float32)  # Проверяем событие [1, 0, 0]\n",
        "predicted_output = model(test_input).item()\n",
        "print(f\"\\nПрогнозируемый выход для [1, 0, 0]: {predicted_output:.4f}\")"
      ]
    },
    {
      "cell_type": "markdown",
      "source": [
        "**Вариант 2. **"
      ],
      "metadata": {
        "id": "G79L5n54lb9y"
      }
    },
    {
      "cell_type": "markdown",
      "source": [
        "Для обучения нейронной сети с заданными параметрами можно использовать следующий подход:\n",
        "\n",
        "1. Определение входных и выходных данных:\n",
        "   - Входные данные: N=3 бинарных признака, где 1 соответствует положительному событию, а 0 - отрицательному.\n",
        "   - Выходные данные: Скалярное значение, близкое к среднему значению N/2 ≈ 0.\n",
        "\n",
        "2. Выбор архитектуры нейронной сети:\n",
        "   - Входной слой: N=3 нейрона, по одному на каждый признак.\n",
        "   - Скрытые слои: Можно использовать один или несколько скрытых слоев с подходящим количеством нейронов для моделирования нелинейных зависимостей.\n",
        "   - Выходной слой: 1 нейрон, выдающий скалярное значение.\n",
        "\n",
        "3. Функции активации:\n",
        "   - Для скрытых слоев можно использовать функции активации, такие как ReLU (Rectified Linear Unit) или таnh.\n",
        "   - Для выходного слоя можно использовать линейную функцию активации, чтобы получить значение, близкое к N/2 ≈ 0.\n",
        "\n",
        "4. Функция ошибки и оптимизация:\n",
        "   - Функция ошибки: Можно использовать среднеквадратичную ошибку (MSE) или другую подходящую функцию ошибки.\n",
        "   - Алгоритм оптимизации: Применить метод градиентного спуска, например, Adam или SGD, для обновления весов нейронной сети.\n",
        "\n",
        "5. Процесс обучения:\n",
        "   - Разделить данные на обучающую и тестовую выборки.\n",
        "   - Провести несколько эпох обучения, отслеживая ошибку на обучающей и тестовой выборках.\n",
        "   - Остановить обучение, когда ошибка на тестовой выборке достигнет приемлемого уровня.\n",
        "\n",
        "6. Применение обученной модели:\n",
        "   - Использовать обученную нейронную сеть для получения выходных значений, близких к N/2 ≈ 0, для новых входных данных.\n",
        "\n",
        "Пример реализации данного подхода на Python с использованием библиотеки TensorFlow/Keras:"
      ],
      "metadata": {
        "id": "b914KqAAlJdG"
      }
    },
    {
      "cell_type": "code",
      "source": [
        "import numpy as np\n",
        "from tensorflow.keras.models import Sequential\n",
        "from tensorflow.keras.layers import Dense\n",
        "from tensorflow.keras.optimizers import Adam\n",
        "\n",
        "# Определение параметров\n",
        "N = 3\n",
        "K = 1\n",
        "\n",
        "# Генерация случайных данных\n",
        "X = np.random.randint(2, size=(100, N))\n",
        "y = np.mean(X, axis=1)\n",
        "\n",
        "# Создание модели\n",
        "model = Sequential()\n",
        "model.add(Dense(8, input_dim=N, activation='relu'))\n",
        "model.add(Dense(1, activation='linear'))\n",
        "\n",
        "# Компиляция и обучение модели\n",
        "model.compile(loss='mean_squared_error', optimizer=Adam())\n",
        "model.fit(X, y, epochs=1000, batch_size=32, verbose=0)\n",
        "\n",
        "# Применение модели\n",
        "new_X = np.random.randint(2, size=(1, N))\n",
        "new_y = model.predict(new_X)\n",
        "print(f\"Входные данные: {new_X[0]}\")\n",
        "print(f\"Выходное значение: {new_y[0,0]}\")"
      ],
      "metadata": {
        "colab": {
          "base_uri": "https://localhost:8080/"
        },
        "id": "OErQJID6lJoa",
        "outputId": "5fd0dc87-0329-4ef1-fdb4-432d5bb72387"
      },
      "execution_count": 4,
      "outputs": [
        {
          "output_type": "stream",
          "name": "stdout",
          "text": [
            "1/1 [==============================] - 0s 49ms/step\n",
            "Входные данные: [0 1 1]\n",
            "Выходное значение: 0.6720442771911621\n"
          ]
        }
      ]
    }
  ]
}